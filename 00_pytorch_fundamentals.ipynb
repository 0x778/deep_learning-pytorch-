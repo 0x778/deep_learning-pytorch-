{
 "cells": [
  {
   "cell_type": "code",
   "execution_count": 1,
   "metadata": {
    "colab": {
     "base_uri": "https://localhost:8080/"
    },
    "id": "2pd3zJq8QL0W",
    "outputId": "388a4068-cef7-4bd8-b50a-d6868eac8806"
   },
   "outputs": [
    {
     "name": "stdout",
     "output_type": "stream",
     "text": [
      "Mon Jan  6 01:07:56 2025       \n",
      "+---------------------------------------------------------------------------------------+\n",
      "| NVIDIA-SMI 535.183.01             Driver Version: 535.183.01   CUDA Version: 12.2     |\n",
      "|-----------------------------------------+----------------------+----------------------+\n",
      "| GPU  Name                 Persistence-M | Bus-Id        Disp.A | Volatile Uncorr. ECC |\n",
      "| Fan  Temp   Perf          Pwr:Usage/Cap |         Memory-Usage | GPU-Util  Compute M. |\n",
      "|                                         |                      |               MIG M. |\n",
      "|=========================================+======================+======================|\n",
      "|   0  NVIDIA GeForce GTX 1050 Ti     Off | 00000000:01:00.0 Off |                  N/A |\n",
      "| N/A   49C    P8              N/A / ERR! |      4MiB /  4096MiB |      0%      Default |\n",
      "|                                         |                      |                  N/A |\n",
      "+-----------------------------------------+----------------------+----------------------+\n",
      "                                                                                         \n",
      "+---------------------------------------------------------------------------------------+\n",
      "| Processes:                                                                            |\n",
      "|  GPU   GI   CI        PID   Type   Process name                            GPU Memory |\n",
      "|        ID   ID                                                             Usage      |\n",
      "|=======================================================================================|\n",
      "|    0   N/A  N/A      1869      G   /usr/lib/xorg/Xorg                            4MiB |\n",
      "+---------------------------------------------------------------------------------------+\n"
     ]
    }
   ],
   "source": [
    "!nvidia-smi"
   ]
  },
  {
   "cell_type": "code",
   "execution_count": 4,
   "metadata": {
    "colab": {
     "base_uri": "https://localhost:8080/"
    },
    "execution": {
     "iopub.execute_input": "2025-01-06T19:37:31.119676Z",
     "iopub.status.busy": "2025-01-06T19:37:31.118660Z",
     "iopub.status.idle": "2025-01-06T19:37:33.968232Z",
     "shell.execute_reply": "2025-01-06T19:37:33.967441Z",
     "shell.execute_reply.started": "2025-01-06T19:37:31.119579Z"
    },
    "id": "kKT_MJDfQZWf",
    "outputId": "1f0cec6a-b5e5-4449-cc57-197b6be44e07"
   },
   "outputs": [
    {
     "name": "stdout",
     "output_type": "stream",
     "text": [
      "2.5.1+cu124\n"
     ]
    }
   ],
   "source": [
    "import torch\n",
    "import pandas as pd\n",
    "import numpy as np\n",
    "import matplotlib.pyplot as plt\n",
    "print(torch.__version__)"
   ]
  },
  {
   "cell_type": "code",
   "execution_count": 5,
   "metadata": {
    "execution": {
     "iopub.execute_input": "2025-01-06T19:37:33.970311Z",
     "iopub.status.busy": "2025-01-06T19:37:33.969885Z",
     "iopub.status.idle": "2025-01-06T19:37:33.975464Z",
     "shell.execute_reply": "2025-01-06T19:37:33.973985Z",
     "shell.execute_reply.started": "2025-01-06T19:37:33.970270Z"
    },
    "id": "eG8FgLwkSVMY"
   },
   "outputs": [],
   "source": [
    "## introduction to tensors\n",
    "\n",
    "###create tensors\n",
    "###scalar"
   ]
  },
  {
   "cell_type": "code",
   "execution_count": 6,
   "metadata": {
    "colab": {
     "base_uri": "https://localhost:8080/"
    },
    "execution": {
     "iopub.execute_input": "2025-01-06T19:37:33.976751Z",
     "iopub.status.busy": "2025-01-06T19:37:33.976485Z",
     "iopub.status.idle": "2025-01-06T19:37:33.987761Z",
     "shell.execute_reply": "2025-01-06T19:37:33.986610Z",
     "shell.execute_reply.started": "2025-01-06T19:37:33.976726Z"
    },
    "id": "JjzEuPlNdoQr",
    "outputId": "140a31f4-57da-4c12-df41-bef2834761dd"
   },
   "outputs": [
    {
     "data": {
      "text/plain": [
       "tensor(1)"
      ]
     },
     "execution_count": 6,
     "metadata": {},
     "output_type": "execute_result"
    }
   ],
   "source": [
    "scalar = torch.tensor(1)\n",
    "scalar"
   ]
  },
  {
   "cell_type": "code",
   "execution_count": null,
   "metadata": {},
   "outputs": [],
   "source": []
  },
  {
   "cell_type": "code",
   "execution_count": 7,
   "metadata": {
    "colab": {
     "base_uri": "https://localhost:8080/"
    },
    "execution": {
     "iopub.execute_input": "2025-01-06T19:37:33.990151Z",
     "iopub.status.busy": "2025-01-06T19:37:33.989743Z",
     "iopub.status.idle": "2025-01-06T19:37:33.995978Z",
     "shell.execute_reply": "2025-01-06T19:37:33.994908Z",
     "shell.execute_reply.started": "2025-01-06T19:37:33.990108Z"
    },
    "id": "AKlS0ABMeHte",
    "outputId": "5243d85d-ff9a-40a7-f6cb-57fd2d0c1b3e"
   },
   "outputs": [
    {
     "data": {
      "text/plain": [
       "0"
      ]
     },
     "execution_count": 7,
     "metadata": {},
     "output_type": "execute_result"
    }
   ],
   "source": [
    "scalar.ndim"
   ]
  },
  {
   "cell_type": "code",
   "execution_count": 8,
   "metadata": {
    "colab": {
     "base_uri": "https://localhost:8080/"
    },
    "execution": {
     "iopub.execute_input": "2025-01-06T19:37:33.997468Z",
     "iopub.status.busy": "2025-01-06T19:37:33.996904Z",
     "iopub.status.idle": "2025-01-06T19:37:34.004810Z",
     "shell.execute_reply": "2025-01-06T19:37:34.003569Z",
     "shell.execute_reply.started": "2025-01-06T19:37:33.997421Z"
    },
    "id": "ralvQmJkeiDW",
    "outputId": "12d5d1ce-53d9-428e-a4a8-f43137a1be3b"
   },
   "outputs": [
    {
     "data": {
      "text/plain": [
       "1"
      ]
     },
     "execution_count": 8,
     "metadata": {},
     "output_type": "execute_result"
    }
   ],
   "source": [
    "scalar.item()"
   ]
  },
  {
   "cell_type": "code",
   "execution_count": 9,
   "metadata": {
    "colab": {
     "base_uri": "https://localhost:8080/"
    },
    "execution": {
     "iopub.execute_input": "2025-01-06T19:37:34.006471Z",
     "iopub.status.busy": "2025-01-06T19:37:34.005956Z",
     "iopub.status.idle": "2025-01-06T19:37:34.013311Z",
     "shell.execute_reply": "2025-01-06T19:37:34.012259Z",
     "shell.execute_reply.started": "2025-01-06T19:37:34.006424Z"
    },
    "id": "gOrUhJD_e4HM",
    "outputId": "d1da78d0-8a8a-4d89-aab4-95c591c1dc35"
   },
   "outputs": [
    {
     "data": {
      "text/plain": [
       "tensor([1, 1])"
      ]
     },
     "execution_count": 9,
     "metadata": {},
     "output_type": "execute_result"
    }
   ],
   "source": [
    "##vector\n",
    "vector = torch.tensor([1,1])\n",
    "vector"
   ]
  },
  {
   "cell_type": "code",
   "execution_count": 10,
   "metadata": {
    "colab": {
     "base_uri": "https://localhost:8080/"
    },
    "execution": {
     "iopub.execute_input": "2025-01-06T19:37:34.014946Z",
     "iopub.status.busy": "2025-01-06T19:37:34.014414Z",
     "iopub.status.idle": "2025-01-06T19:37:34.021372Z",
     "shell.execute_reply": "2025-01-06T19:37:34.020228Z",
     "shell.execute_reply.started": "2025-01-06T19:37:34.014907Z"
    },
    "id": "U7rlITv_ihET",
    "outputId": "02d64432-e9f1-485c-eea9-4700cb40d11c"
   },
   "outputs": [
    {
     "data": {
      "text/plain": [
       "1"
      ]
     },
     "execution_count": 10,
     "metadata": {},
     "output_type": "execute_result"
    }
   ],
   "source": [
    "vector.ndim"
   ]
  },
  {
   "cell_type": "code",
   "execution_count": 11,
   "metadata": {
    "colab": {
     "base_uri": "https://localhost:8080/"
    },
    "execution": {
     "iopub.execute_input": "2025-01-06T19:37:34.023118Z",
     "iopub.status.busy": "2025-01-06T19:37:34.022724Z",
     "iopub.status.idle": "2025-01-06T19:37:34.029684Z",
     "shell.execute_reply": "2025-01-06T19:37:34.028685Z",
     "shell.execute_reply.started": "2025-01-06T19:37:34.023077Z"
    },
    "id": "aKiNn5Q1iklO",
    "outputId": "410a08b9-a96e-4fc9-b772-e3ded79a0eb2"
   },
   "outputs": [
    {
     "data": {
      "text/plain": [
       "torch.Size([2])"
      ]
     },
     "execution_count": 11,
     "metadata": {},
     "output_type": "execute_result"
    }
   ],
   "source": [
    "vector.shape"
   ]
  },
  {
   "cell_type": "code",
   "execution_count": 12,
   "metadata": {
    "colab": {
     "base_uri": "https://localhost:8080/"
    },
    "execution": {
     "iopub.execute_input": "2025-01-06T19:37:34.030980Z",
     "iopub.status.busy": "2025-01-06T19:37:34.030690Z",
     "iopub.status.idle": "2025-01-06T19:37:34.038337Z",
     "shell.execute_reply": "2025-01-06T19:37:34.037090Z",
     "shell.execute_reply.started": "2025-01-06T19:37:34.030954Z"
    },
    "id": "ecZv-7r3ip5e",
    "outputId": "2cc7a4c5-6865-425b-ea01-0e9bf7067da2"
   },
   "outputs": [
    {
     "data": {
      "text/plain": [
       "tensor([[1, 2],\n",
       "        [4, 5]])"
      ]
     },
     "execution_count": 12,
     "metadata": {},
     "output_type": "execute_result"
    }
   ],
   "source": [
    "##Matrix\n",
    "matrix = torch.tensor([[1,2],[4,5]])\n",
    "matrix"
   ]
  },
  {
   "cell_type": "code",
   "execution_count": 13,
   "metadata": {
    "colab": {
     "base_uri": "https://localhost:8080/"
    },
    "execution": {
     "iopub.execute_input": "2025-01-06T19:37:34.042744Z",
     "iopub.status.busy": "2025-01-06T19:37:34.041088Z",
     "iopub.status.idle": "2025-01-06T19:37:34.053925Z",
     "shell.execute_reply": "2025-01-06T19:37:34.050645Z",
     "shell.execute_reply.started": "2025-01-06T19:37:34.042659Z"
    },
    "id": "_JIjAIpRkXic",
    "outputId": "f8331c84-7d36-487e-a7b5-48e71ccdbf57"
   },
   "outputs": [
    {
     "data": {
      "text/plain": [
       "tensor([[[1, 2, 3],\n",
       "         [4, 5, 6],\n",
       "         [7, 8, 9]]])"
      ]
     },
     "execution_count": 13,
     "metadata": {},
     "output_type": "execute_result"
    }
   ],
   "source": [
    "#Tensor\n",
    "tensor = torch.tensor([[\n",
    "    [1,2,3],\n",
    "    [4,5,6],\n",
    "    [7,8,9]\n",
    "]])\n",
    "tensor"
   ]
  },
  {
   "cell_type": "code",
   "execution_count": 14,
   "metadata": {
    "colab": {
     "base_uri": "https://localhost:8080/"
    },
    "execution": {
     "iopub.execute_input": "2025-01-06T19:37:34.057750Z",
     "iopub.status.busy": "2025-01-06T19:37:34.056559Z",
     "iopub.status.idle": "2025-01-06T19:37:34.069782Z",
     "shell.execute_reply": "2025-01-06T19:37:34.067963Z",
     "shell.execute_reply.started": "2025-01-06T19:37:34.057642Z"
    },
    "id": "6pb-KhshkbQM",
    "outputId": "2d2b8bc6-b9bf-4543-eaed-e91ab86eefd8"
   },
   "outputs": [
    {
     "data": {
      "text/plain": [
       "3"
      ]
     },
     "execution_count": 14,
     "metadata": {},
     "output_type": "execute_result"
    }
   ],
   "source": [
    "tensor.ndim"
   ]
  },
  {
   "cell_type": "code",
   "execution_count": 15,
   "metadata": {
    "colab": {
     "base_uri": "https://localhost:8080/"
    },
    "execution": {
     "iopub.execute_input": "2025-01-06T19:37:34.072618Z",
     "iopub.status.busy": "2025-01-06T19:37:34.071770Z",
     "iopub.status.idle": "2025-01-06T19:37:34.082448Z",
     "shell.execute_reply": "2025-01-06T19:37:34.081064Z",
     "shell.execute_reply.started": "2025-01-06T19:37:34.072577Z"
    },
    "id": "9StSQhN-k8of",
    "outputId": "56909b11-53cc-4b4f-aa48-565414a0b2d2"
   },
   "outputs": [
    {
     "data": {
      "text/plain": [
       "torch.Size([1, 3, 3])"
      ]
     },
     "execution_count": 15,
     "metadata": {},
     "output_type": "execute_result"
    }
   ],
   "source": [
    "tensor.shape"
   ]
  },
  {
   "cell_type": "code",
   "execution_count": 16,
   "metadata": {
    "colab": {
     "base_uri": "https://localhost:8080/"
    },
    "execution": {
     "iopub.execute_input": "2025-01-06T19:37:34.085285Z",
     "iopub.status.busy": "2025-01-06T19:37:34.084428Z",
     "iopub.status.idle": "2025-01-06T19:37:34.102103Z",
     "shell.execute_reply": "2025-01-06T19:37:34.100053Z",
     "shell.execute_reply.started": "2025-01-06T19:37:34.085104Z"
    },
    "id": "VlCdyfUwk-m_",
    "outputId": "06fe0a6e-1208-4d71-f69d-b0137c4aadd8"
   },
   "outputs": [
    {
     "data": {
      "text/plain": [
       "tensor([[0.2481, 0.8099, 0.3794, 0.9714],\n",
       "        [0.9175, 0.4101, 0.7195, 0.7888],\n",
       "        [0.3289, 0.5077, 0.8387, 0.8127]])"
      ]
     },
     "execution_count": 16,
     "metadata": {},
     "output_type": "execute_result"
    }
   ],
   "source": [
    "##Random Tensor\n",
    "Random_tensor = torch.rand(3,4)\n",
    "Random_tensor"
   ]
  },
  {
   "cell_type": "code",
   "execution_count": 17,
   "metadata": {
    "colab": {
     "base_uri": "https://localhost:8080/"
    },
    "execution": {
     "iopub.execute_input": "2025-01-06T19:37:34.283712Z",
     "iopub.status.busy": "2025-01-06T19:37:34.281115Z",
     "iopub.status.idle": "2025-01-06T19:37:34.300802Z",
     "shell.execute_reply": "2025-01-06T19:37:34.297987Z",
     "shell.execute_reply.started": "2025-01-06T19:37:34.283590Z"
    },
    "id": "PeCr8Z_iniqW",
    "outputId": "7c7f2975-4817-4340-ffd0-b06900318831"
   },
   "outputs": [
    {
     "data": {
      "text/plain": [
       "2"
      ]
     },
     "execution_count": 17,
     "metadata": {},
     "output_type": "execute_result"
    }
   ],
   "source": [
    " Random_tensor.ndim"
   ]
  },
  {
   "cell_type": "code",
   "execution_count": 18,
   "metadata": {
    "colab": {
     "base_uri": "https://localhost:8080/"
    },
    "execution": {
     "iopub.execute_input": "2025-01-06T19:37:34.448422Z",
     "iopub.status.busy": "2025-01-06T19:37:34.445581Z",
     "iopub.status.idle": "2025-01-06T19:37:34.468670Z",
     "shell.execute_reply": "2025-01-06T19:37:34.465470Z",
     "shell.execute_reply.started": "2025-01-06T19:37:34.448319Z"
    },
    "id": "aXhZ5HAOov16",
    "outputId": "38a7cf88-d61b-4ab6-b3a7-129fcfe1c42f"
   },
   "outputs": [
    {
     "data": {
      "text/plain": [
       "torch.Size([3, 4])"
      ]
     },
     "execution_count": 18,
     "metadata": {},
     "output_type": "execute_result"
    }
   ],
   "source": [
    "Random_tensor.shape"
   ]
  },
  {
   "cell_type": "code",
   "execution_count": 19,
   "metadata": {
    "colab": {
     "base_uri": "https://localhost:8080/"
    },
    "execution": {
     "iopub.execute_input": "2025-01-06T19:37:34.621408Z",
     "iopub.status.busy": "2025-01-06T19:37:34.620818Z",
     "iopub.status.idle": "2025-01-06T19:37:34.639267Z",
     "shell.execute_reply": "2025-01-06T19:37:34.637098Z",
     "shell.execute_reply.started": "2025-01-06T19:37:34.621337Z"
    },
    "id": "PxkFb_A0oyc-",
    "outputId": "9e49bd5a-d55a-4f81-ea10-a245ae72b726"
   },
   "outputs": [
    {
     "data": {
      "text/plain": [
       "tensor([[[0.5887, 0.1619, 0.2863,  ..., 0.9069, 0.0460, 0.6396],\n",
       "         [0.0093, 0.1698, 0.7250,  ..., 0.3200, 0.9653, 0.8060],\n",
       "         [0.3723, 0.5430, 0.0036,  ..., 0.7721, 0.9511, 0.6120],\n",
       "         ...,\n",
       "         [0.9293, 0.3030, 0.6315,  ..., 0.1490, 0.5194, 0.5707],\n",
       "         [0.7387, 0.2625, 0.8744,  ..., 0.2024, 0.0258, 0.2637],\n",
       "         [0.2397, 0.0083, 0.9367,  ..., 0.7596, 0.6005, 0.5211]],\n",
       "\n",
       "        [[0.1367, 0.1693, 0.7744,  ..., 0.9626, 0.0360, 0.4643],\n",
       "         [0.8102, 0.8499, 0.3384,  ..., 0.7820, 0.7641, 0.7668],\n",
       "         [0.5891, 0.2118, 0.1322,  ..., 0.7550, 0.4744, 0.3094],\n",
       "         ...,\n",
       "         [0.4803, 0.2448, 0.6114,  ..., 0.3049, 0.7045, 0.3663],\n",
       "         [0.7270, 0.7923, 0.1987,  ..., 0.4853, 0.4790, 0.7047],\n",
       "         [0.9110, 0.5794, 0.9976,  ..., 0.1362, 0.4959, 0.6614]],\n",
       "\n",
       "        [[0.8183, 0.0488, 0.1181,  ..., 0.0974, 0.3369, 0.9621],\n",
       "         [0.8096, 0.8681, 0.1022,  ..., 0.3231, 0.5727, 0.8283],\n",
       "         [0.9623, 0.0773, 0.8936,  ..., 0.2265, 0.5148, 0.5748],\n",
       "         ...,\n",
       "         [0.8111, 0.0419, 0.5336,  ..., 0.5431, 0.5066, 0.9518],\n",
       "         [0.2731, 0.3027, 0.5963,  ..., 0.7409, 0.8136, 0.3230],\n",
       "         [0.1190, 0.2058, 0.2402,  ..., 0.1076, 0.3270, 0.9827]]])"
      ]
     },
     "execution_count": 19,
     "metadata": {},
     "output_type": "execute_result"
    }
   ],
   "source": [
    "##Image tensor\n",
    "Image_Tensor = torch.rand(size=(3,244,244))\n",
    "Image_Tensor"
   ]
  },
  {
   "cell_type": "code",
   "execution_count": 20,
   "metadata": {
    "colab": {
     "base_uri": "https://localhost:8080/"
    },
    "execution": {
     "iopub.execute_input": "2025-01-06T19:37:34.779404Z",
     "iopub.status.busy": "2025-01-06T19:37:34.778964Z",
     "iopub.status.idle": "2025-01-06T19:37:34.786233Z",
     "shell.execute_reply": "2025-01-06T19:37:34.785254Z",
     "shell.execute_reply.started": "2025-01-06T19:37:34.779372Z"
    },
    "id": "AUZxn1tlqUvq",
    "outputId": "a4aa4659-b0a5-4831-d416-618c5b8ea694"
   },
   "outputs": [
    {
     "data": {
      "text/plain": [
       "tensor([[0., 0., 0., 0.],\n",
       "        [0., 0., 0., 0.],\n",
       "        [0., 0., 0., 0.]])"
      ]
     },
     "execution_count": 20,
     "metadata": {},
     "output_type": "execute_result"
    }
   ],
   "source": [
    "##Tensor of zeros\n",
    "zeros = torch.zeros(size=(3,4))\n",
    "zeros"
   ]
  },
  {
   "cell_type": "code",
   "execution_count": 21,
   "metadata": {
    "colab": {
     "base_uri": "https://localhost:8080/"
    },
    "execution": {
     "iopub.execute_input": "2025-01-06T19:37:34.956545Z",
     "iopub.status.busy": "2025-01-06T19:37:34.956060Z",
     "iopub.status.idle": "2025-01-06T19:37:34.967669Z",
     "shell.execute_reply": "2025-01-06T19:37:34.966792Z",
     "shell.execute_reply.started": "2025-01-06T19:37:34.956501Z"
    },
    "id": "-5sbz_BBTv0p",
    "outputId": "44e5d95f-20c1-400a-934a-7e43ecb95d25"
   },
   "outputs": [
    {
     "data": {
      "text/plain": [
       "tensor([[1., 1., 1., 1.],\n",
       "        [1., 1., 1., 1.],\n",
       "        [1., 1., 1., 1.]])"
      ]
     },
     "execution_count": 21,
     "metadata": {},
     "output_type": "execute_result"
    }
   ],
   "source": [
    "##Tensor of ones\n",
    "ones = torch.ones(size=(3,4))\n",
    "ones"
   ]
  },
  {
   "cell_type": "code",
   "execution_count": 22,
   "metadata": {
    "colab": {
     "base_uri": "https://localhost:8080/"
    },
    "execution": {
     "iopub.execute_input": "2025-01-06T19:37:37.047618Z",
     "iopub.status.busy": "2025-01-06T19:37:37.046713Z",
     "iopub.status.idle": "2025-01-06T19:37:37.068381Z",
     "shell.execute_reply": "2025-01-06T19:37:37.064325Z",
     "shell.execute_reply.started": "2025-01-06T19:37:37.047535Z"
    },
    "id": "VoxNL0u1UD92",
    "outputId": "4ee5754f-cd34-4623-d395-893833a16d28"
   },
   "outputs": [
    {
     "data": {
      "text/plain": [
       "torch.float32"
      ]
     },
     "execution_count": 22,
     "metadata": {},
     "output_type": "execute_result"
    }
   ],
   "source": [
    "ones.dtype"
   ]
  },
  {
   "cell_type": "code",
   "execution_count": 23,
   "metadata": {
    "colab": {
     "base_uri": "https://localhost:8080/"
    },
    "execution": {
     "iopub.execute_input": "2025-01-06T19:37:37.206344Z",
     "iopub.status.busy": "2025-01-06T19:37:37.205560Z",
     "iopub.status.idle": "2025-01-06T19:37:37.214347Z",
     "shell.execute_reply": "2025-01-06T19:37:37.213368Z",
     "shell.execute_reply.started": "2025-01-06T19:37:37.206306Z"
    },
    "id": "nodnNR0ZUIK0",
    "outputId": "9cca659f-4e53-4250-e52d-d257a6c1dca8"
   },
   "outputs": [
    {
     "data": {
      "text/plain": [
       "tensor([ 0,  2,  4,  6,  8, 10])"
      ]
     },
     "execution_count": 23,
     "metadata": {},
     "output_type": "execute_result"
    }
   ],
   "source": [
    "rang = torch.arange(0,11,2)\n",
    "rang"
   ]
  },
  {
   "cell_type": "code",
   "execution_count": 24,
   "metadata": {
    "colab": {
     "base_uri": "https://localhost:8080/"
    },
    "execution": {
     "iopub.execute_input": "2025-01-06T19:37:37.401855Z",
     "iopub.status.busy": "2025-01-06T19:37:37.401552Z",
     "iopub.status.idle": "2025-01-06T19:37:37.407885Z",
     "shell.execute_reply": "2025-01-06T19:37:37.406940Z",
     "shell.execute_reply.started": "2025-01-06T19:37:37.401836Z"
    },
    "id": "x4mia0LmUhbF",
    "outputId": "49579b86-0a1f-4206-f6e6-ab471999f117"
   },
   "outputs": [
    {
     "data": {
      "text/plain": [
       "tensor([[0., 0., 0., 0.],\n",
       "        [0., 0., 0., 0.],\n",
       "        [0., 0., 0., 0.]])"
      ]
     },
     "execution_count": 24,
     "metadata": {},
     "output_type": "execute_result"
    }
   ],
   "source": [
    "Random_tensor * zeros"
   ]
  },
  {
   "cell_type": "markdown",
   "metadata": {
    "id": "_5fv-tPOWE7W",
    "scrolled": true
   },
   "source": [
    "### Tensor datatypes\n"
   ]
  },
  {
   "cell_type": "markdown",
   "metadata": {},
   "source": [
    "There is three main datatypes float16 , float32 , float64\n",
    "\n",
    "**Note**:U can run into three big issues in Tensor\n",
    "\n",
    "1-not right datatype\n",
    "\n",
    "2-not right shape\n",
    "\n",
    "3-not right device"
   ]
  },
  {
   "cell_type": "code",
   "execution_count": 29,
   "metadata": {
    "execution": {
     "iopub.execute_input": "2025-01-06T20:04:54.634908Z",
     "iopub.status.busy": "2025-01-06T20:04:54.634326Z",
     "iopub.status.idle": "2025-01-06T20:04:54.642196Z",
     "shell.execute_reply": "2025-01-06T20:04:54.641414Z",
     "shell.execute_reply.started": "2025-01-06T20:04:54.634855Z"
    }
   },
   "outputs": [
    {
     "data": {
      "text/plain": [
       "tensor([3., 6., 9.])"
      ]
     },
     "execution_count": 29,
     "metadata": {},
     "output_type": "execute_result"
    }
   ],
   "source": [
    "float_32_tensor = torch.tensor([3.0,6.0,9.0] , dtype=None , device=None , requires_grad=False)\n",
    "float_32_tensor"
   ]
  },
  {
   "cell_type": "code",
   "execution_count": 30,
   "metadata": {
    "execution": {
     "iopub.execute_input": "2025-01-06T20:04:55.208488Z",
     "iopub.status.busy": "2025-01-06T20:04:55.207516Z",
     "iopub.status.idle": "2025-01-06T20:04:55.221663Z",
     "shell.execute_reply": "2025-01-06T20:04:55.220316Z",
     "shell.execute_reply.started": "2025-01-06T20:04:55.208400Z"
    }
   },
   "outputs": [
    {
     "data": {
      "text/plain": [
       "torch.float32"
      ]
     },
     "execution_count": 30,
     "metadata": {},
     "output_type": "execute_result"
    }
   ],
   "source": [
    "float_32_tensor.dtype"
   ]
  },
  {
   "cell_type": "code",
   "execution_count": 43,
   "metadata": {
    "execution": {
     "iopub.execute_input": "2025-01-06T20:16:30.525555Z",
     "iopub.status.busy": "2025-01-06T20:16:30.524993Z",
     "iopub.status.idle": "2025-01-06T20:16:30.530967Z",
     "shell.execute_reply": "2025-01-06T20:16:30.529446Z",
     "shell.execute_reply.started": "2025-01-06T20:16:30.525524Z"
    }
   },
   "outputs": [],
   "source": [
    "float_16_tensor = float_32_tensor.type(torch.half)"
   ]
  },
  {
   "cell_type": "code",
   "execution_count": 44,
   "metadata": {
    "execution": {
     "iopub.execute_input": "2025-01-06T20:16:30.939431Z",
     "iopub.status.busy": "2025-01-06T20:16:30.939165Z",
     "iopub.status.idle": "2025-01-06T20:16:30.945414Z",
     "shell.execute_reply": "2025-01-06T20:16:30.944399Z",
     "shell.execute_reply.started": "2025-01-06T20:16:30.939408Z"
    }
   },
   "outputs": [
    {
     "data": {
      "text/plain": [
       "torch.float16"
      ]
     },
     "execution_count": 44,
     "metadata": {},
     "output_type": "execute_result"
    }
   ],
   "source": [
    "float_16_tensor.dtype"
   ]
  },
  {
   "cell_type": "code",
   "execution_count": 45,
   "metadata": {
    "execution": {
     "iopub.execute_input": "2025-01-06T20:16:31.373865Z",
     "iopub.status.busy": "2025-01-06T20:16:31.373319Z",
     "iopub.status.idle": "2025-01-06T20:16:31.381433Z",
     "shell.execute_reply": "2025-01-06T20:16:31.380348Z",
     "shell.execute_reply.started": "2025-01-06T20:16:31.373826Z"
    }
   },
   "outputs": [
    {
     "data": {
      "text/plain": [
       "tensor([3., 6., 9.])"
      ]
     },
     "execution_count": 45,
     "metadata": {},
     "output_type": "execute_result"
    }
   ],
   "source": [
    "float_32_tensor"
   ]
  },
  {
   "cell_type": "code",
   "execution_count": 46,
   "metadata": {
    "execution": {
     "iopub.execute_input": "2025-01-06T20:16:31.726401Z",
     "iopub.status.busy": "2025-01-06T20:16:31.725820Z",
     "iopub.status.idle": "2025-01-06T20:16:31.750958Z",
     "shell.execute_reply": "2025-01-06T20:16:31.744535Z",
     "shell.execute_reply.started": "2025-01-06T20:16:31.726350Z"
    }
   },
   "outputs": [
    {
     "data": {
      "text/plain": [
       "tensor([ 9., 36., 81.])"
      ]
     },
     "execution_count": 46,
     "metadata": {},
     "output_type": "execute_result"
    }
   ],
   "source": [
    "float_16_tensor * float_32_tensor"
   ]
  },
  {
   "cell_type": "markdown",
   "metadata": {},
   "source": [
    "### Getting information from tensors \n",
    "\n",
    "**Note** :\n",
    "\n",
    "1- to get datatype `tensor.dtype`\n",
    "\n",
    "2- to get shape `tensor.shape`\n",
    "\n",
    "3- to get device `tensor.device`"
   ]
  },
  {
   "cell_type": "code",
   "execution_count": 47,
   "metadata": {
    "execution": {
     "iopub.execute_input": "2025-01-06T20:25:21.336999Z",
     "iopub.status.busy": "2025-01-06T20:25:21.334802Z",
     "iopub.status.idle": "2025-01-06T20:25:21.354535Z",
     "shell.execute_reply": "2025-01-06T20:25:21.352742Z",
     "shell.execute_reply.started": "2025-01-06T20:25:21.336856Z"
    }
   },
   "outputs": [
    {
     "data": {
      "text/plain": [
       "tensor([[0.1413, 0.1503, 0.2332, 0.8732],\n",
       "        [0.9252, 0.1250, 0.0722, 0.3976],\n",
       "        [0.2004, 0.1759, 0.0538, 0.5580]])"
      ]
     },
     "execution_count": 47,
     "metadata": {},
     "output_type": "execute_result"
    }
   ],
   "source": [
    " #Create Tensor\n",
    "some_tensor = torch.rand(3,4)\n",
    "some_tensor"
   ]
  },
  {
   "cell_type": "code",
   "execution_count": 48,
   "metadata": {
    "execution": {
     "iopub.execute_input": "2025-01-06T20:27:40.471740Z",
     "iopub.status.busy": "2025-01-06T20:27:40.471277Z",
     "iopub.status.idle": "2025-01-06T20:27:40.478054Z",
     "shell.execute_reply": "2025-01-06T20:27:40.477405Z",
     "shell.execute_reply.started": "2025-01-06T20:27:40.471700Z"
    }
   },
   "outputs": [
    {
     "name": "stdout",
     "output_type": "stream",
     "text": [
      "tensor([[0.1413, 0.1503, 0.2332, 0.8732],\n",
      "        [0.9252, 0.1250, 0.0722, 0.3976],\n",
      "        [0.2004, 0.1759, 0.0538, 0.5580]])\n",
      "Datatype of tensor:torch.float32 , shape of tensor:torch.Size([3, 4]), device of tensor:cpu\n"
     ]
    }
   ],
   "source": [
    "##find info\n",
    "print(some_tensor)\n",
    "print(f\"Datatype of tensor:{some_tensor.dtype} , shape of tensor:{some_tensor.shape}, device of tensor:{some_tensor.device}\")"
   ]
  },
  {
   "cell_type": "markdown",
   "metadata": {},
   "source": [
    "## Mainpulating tensors (operations in tensor)\n",
    "\n",
    "* Addition\n",
    "* abstraction\n",
    "* Divison\n",
    "* Multiplication\n",
    "* Matrix multiplication"
   ]
  },
  {
   "cell_type": "code",
   "execution_count": 60,
   "metadata": {
    "execution": {
     "iopub.execute_input": "2025-01-06T21:15:32.042605Z",
     "iopub.status.busy": "2025-01-06T21:15:32.041886Z",
     "iopub.status.idle": "2025-01-06T21:15:32.048853Z",
     "shell.execute_reply": "2025-01-06T21:15:32.048104Z",
     "shell.execute_reply.started": "2025-01-06T21:15:32.042554Z"
    }
   },
   "outputs": [
    {
     "data": {
      "text/plain": [
       "tensor([[[10.9415, 10.8102],\n",
       "         [10.1710, 10.3139]],\n",
       "\n",
       "        [[10.1826, 10.4230],\n",
       "         [10.0056, 10.9227]]])"
      ]
     },
     "execution_count": 60,
     "metadata": {},
     "output_type": "execute_result"
    }
   ],
   "source": [
    "tensor_operation = torch.rand(2,2,2)\n",
    "tensor_operation + 10"
   ]
  },
  {
   "cell_type": "code",
   "execution_count": 61,
   "metadata": {
    "execution": {
     "iopub.execute_input": "2025-01-06T21:15:37.099156Z",
     "iopub.status.busy": "2025-01-06T21:15:37.097429Z",
     "iopub.status.idle": "2025-01-06T21:15:37.106625Z",
     "shell.execute_reply": "2025-01-06T21:15:37.105856Z",
     "shell.execute_reply.started": "2025-01-06T21:15:37.099046Z"
    }
   },
   "outputs": [
    {
     "data": {
      "text/plain": [
       "tensor([[[9.4153, 8.1019],\n",
       "         [1.7097, 3.1393]],\n",
       "\n",
       "        [[1.8265, 4.2295],\n",
       "         [0.0565, 9.2267]]])"
      ]
     },
     "execution_count": 61,
     "metadata": {},
     "output_type": "execute_result"
    }
   ],
   "source": [
    "tensor_operation * 10"
   ]
  },
  {
   "cell_type": "code",
   "execution_count": 62,
   "metadata": {
    "execution": {
     "iopub.execute_input": "2025-01-06T21:15:37.499801Z",
     "iopub.status.busy": "2025-01-06T21:15:37.498103Z",
     "iopub.status.idle": "2025-01-06T21:15:37.515602Z",
     "shell.execute_reply": "2025-01-06T21:15:37.513825Z",
     "shell.execute_reply.started": "2025-01-06T21:15:37.499715Z"
    }
   },
   "outputs": [
    {
     "data": {
      "text/plain": [
       "tensor([[[0.4708, 0.4051],\n",
       "         [0.0855, 0.1570]],\n",
       "\n",
       "        [[0.0913, 0.2115],\n",
       "         [0.0028, 0.4613]]])"
      ]
     },
     "execution_count": 62,
     "metadata": {},
     "output_type": "execute_result"
    }
   ],
   "source": [
    "tensor_operation / 2  "
   ]
  },
  {
   "cell_type": "code",
   "execution_count": 63,
   "metadata": {
    "execution": {
     "iopub.execute_input": "2025-01-06T21:15:38.049348Z",
     "iopub.status.busy": "2025-01-06T21:15:38.047207Z",
     "iopub.status.idle": "2025-01-06T21:15:38.061752Z",
     "shell.execute_reply": "2025-01-06T21:15:38.060324Z",
     "shell.execute_reply.started": "2025-01-06T21:15:38.049253Z"
    }
   },
   "outputs": [
    {
     "data": {
      "text/plain": [
       "tensor([[[9.4153, 8.1019],\n",
       "         [1.7097, 3.1393]],\n",
       "\n",
       "        [[1.8265, 4.2295],\n",
       "         [0.0565, 9.2267]]])"
      ]
     },
     "execution_count": 63,
     "metadata": {},
     "output_type": "execute_result"
    }
   ],
   "source": [
    "#Try PyTorch build-in function prefer using pure python for easy opearation\n",
    "torch.mul(tensor_operation , 10)"
   ]
  },
  {
   "cell_type": "code",
   "execution_count": 64,
   "metadata": {
    "execution": {
     "iopub.execute_input": "2025-01-06T21:15:38.504457Z",
     "iopub.status.busy": "2025-01-06T21:15:38.503511Z",
     "iopub.status.idle": "2025-01-06T21:15:38.533056Z",
     "shell.execute_reply": "2025-01-06T21:15:38.531976Z",
     "shell.execute_reply.started": "2025-01-06T21:15:38.504367Z"
    }
   },
   "outputs": [
    {
     "ename": "RuntimeError",
     "evalue": "self must be a matrix",
     "output_type": "error",
     "traceback": [
      "\u001b[0;31m---------------------------------------------------------------------------\u001b[0m",
      "\u001b[0;31mRuntimeError\u001b[0m                              Traceback (most recent call last)",
      "Cell \u001b[0;32mIn[64], line 1\u001b[0m\n\u001b[0;32m----> 1\u001b[0m \u001b[43mtorch\u001b[49m\u001b[38;5;241;43m.\u001b[39;49m\u001b[43mmm\u001b[49m\u001b[43m(\u001b[49m\u001b[43mtensor_operation\u001b[49m\u001b[43m,\u001b[49m\u001b[43mtensor_operation\u001b[49m\u001b[43m)\u001b[49m\n",
      "\u001b[0;31mRuntimeError\u001b[0m: self must be a matrix"
     ]
    }
   ],
   "source": [
    "torch.mm(tensor_operation,tensor_operation)"
   ]
  },
  {
   "cell_type": "code",
   "execution_count": null,
   "metadata": {},
   "outputs": [],
   "source": []
  }
 ],
 "metadata": {
  "accelerator": "GPU",
  "colab": {
   "gpuType": "T4",
   "provenance": []
  },
  "kernelspec": {
   "display_name": "Python 3 (ipykernel)",
   "language": "python",
   "name": "python3"
  },
  "language_info": {
   "codemirror_mode": {
    "name": "ipython",
    "version": 3
   },
   "file_extension": ".py",
   "mimetype": "text/x-python",
   "name": "python",
   "nbconvert_exporter": "python",
   "pygments_lexer": "ipython3",
   "version": "3.10.12"
  }
 },
 "nbformat": 4,
 "nbformat_minor": 4
}
