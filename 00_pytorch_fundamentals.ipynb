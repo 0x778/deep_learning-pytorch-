{
 "cells": [
  {
   "cell_type": "code",
   "execution_count": 1,
   "metadata": {
    "colab": {
     "base_uri": "https://localhost:8080/"
    },
    "id": "2pd3zJq8QL0W",
    "outputId": "388a4068-cef7-4bd8-b50a-d6868eac8806"
   },
   "outputs": [
    {
     "name": "stdout",
     "output_type": "stream",
     "text": [
      "Mon Jan  6 01:07:56 2025       \n",
      "+---------------------------------------------------------------------------------------+\n",
      "| NVIDIA-SMI 535.183.01             Driver Version: 535.183.01   CUDA Version: 12.2     |\n",
      "|-----------------------------------------+----------------------+----------------------+\n",
      "| GPU  Name                 Persistence-M | Bus-Id        Disp.A | Volatile Uncorr. ECC |\n",
      "| Fan  Temp   Perf          Pwr:Usage/Cap |         Memory-Usage | GPU-Util  Compute M. |\n",
      "|                                         |                      |               MIG M. |\n",
      "|=========================================+======================+======================|\n",
      "|   0  NVIDIA GeForce GTX 1050 Ti     Off | 00000000:01:00.0 Off |                  N/A |\n",
      "| N/A   49C    P8              N/A / ERR! |      4MiB /  4096MiB |      0%      Default |\n",
      "|                                         |                      |                  N/A |\n",
      "+-----------------------------------------+----------------------+----------------------+\n",
      "                                                                                         \n",
      "+---------------------------------------------------------------------------------------+\n",
      "| Processes:                                                                            |\n",
      "|  GPU   GI   CI        PID   Type   Process name                            GPU Memory |\n",
      "|        ID   ID                                                             Usage      |\n",
      "|=======================================================================================|\n",
      "|    0   N/A  N/A      1869      G   /usr/lib/xorg/Xorg                            4MiB |\n",
      "+---------------------------------------------------------------------------------------+\n"
     ]
    }
   ],
   "source": [
    "!nvidia-smi"
   ]
  },
  {
   "cell_type": "code",
   "execution_count": 1,
   "metadata": {
    "colab": {
     "base_uri": "https://localhost:8080/"
    },
    "execution": {
     "iopub.execute_input": "2025-01-10T16:33:54.114323Z",
     "iopub.status.busy": "2025-01-10T16:33:54.112295Z",
     "iopub.status.idle": "2025-01-10T16:33:57.567237Z",
     "shell.execute_reply": "2025-01-10T16:33:57.566379Z",
     "shell.execute_reply.started": "2025-01-10T16:33:54.114220Z"
    },
    "id": "kKT_MJDfQZWf",
    "outputId": "1f0cec6a-b5e5-4449-cc57-197b6be44e07"
   },
   "outputs": [
    {
     "name": "stdout",
     "output_type": "stream",
     "text": [
      "2.5.1+cu124\n"
     ]
    }
   ],
   "source": [
    "import torch\n",
    "import pandas as pd\n",
    "import numpy as np\n",
    "import matplotlib.pyplot as plt\n",
    "print(torch.__version__)"
   ]
  },
  {
   "cell_type": "markdown",
   "metadata": {
    "execution": {
     "iopub.execute_input": "2025-01-06T19:37:33.970311Z",
     "iopub.status.busy": "2025-01-06T19:37:33.969885Z",
     "iopub.status.idle": "2025-01-06T19:37:33.975464Z",
     "shell.execute_reply": "2025-01-06T19:37:33.973985Z",
     "shell.execute_reply.started": "2025-01-06T19:37:33.970270Z"
    },
    "id": "eG8FgLwkSVMY"
   },
   "source": [
    "## introduction to tensors\n",
    "\n",
    "create tensors\n",
    "# scalar"
   ]
  },
  {
   "cell_type": "code",
   "execution_count": 2,
   "metadata": {
    "colab": {
     "base_uri": "https://localhost:8080/"
    },
    "execution": {
     "iopub.execute_input": "2025-01-10T16:33:57.568477Z",
     "iopub.status.busy": "2025-01-10T16:33:57.568183Z",
     "iopub.status.idle": "2025-01-10T16:33:57.587121Z",
     "shell.execute_reply": "2025-01-10T16:33:57.586189Z",
     "shell.execute_reply.started": "2025-01-10T16:33:57.568454Z"
    },
    "id": "JjzEuPlNdoQr",
    "outputId": "140a31f4-57da-4c12-df41-bef2834761dd"
   },
   "outputs": [
    {
     "data": {
      "text/plain": [
       "tensor(1)"
      ]
     },
     "execution_count": 2,
     "metadata": {},
     "output_type": "execute_result"
    }
   ],
   "source": [
    "scalar = torch.tensor(1)\n",
    "scalar"
   ]
  },
  {
   "cell_type": "code",
   "execution_count": null,
   "metadata": {},
   "outputs": [],
   "source": []
  },
  {
   "cell_type": "code",
   "execution_count": 3,
   "metadata": {
    "colab": {
     "base_uri": "https://localhost:8080/"
    },
    "execution": {
     "iopub.execute_input": "2025-01-10T16:33:57.858380Z",
     "iopub.status.busy": "2025-01-10T16:33:57.856812Z",
     "iopub.status.idle": "2025-01-10T16:33:57.873570Z",
     "shell.execute_reply": "2025-01-10T16:33:57.871682Z",
     "shell.execute_reply.started": "2025-01-10T16:33:57.858241Z"
    },
    "id": "AKlS0ABMeHte",
    "outputId": "5243d85d-ff9a-40a7-f6cb-57fd2d0c1b3e"
   },
   "outputs": [
    {
     "data": {
      "text/plain": [
       "0"
      ]
     },
     "execution_count": 3,
     "metadata": {},
     "output_type": "execute_result"
    }
   ],
   "source": [
    "scalar.ndim"
   ]
  },
  {
   "cell_type": "code",
   "execution_count": 4,
   "metadata": {
    "colab": {
     "base_uri": "https://localhost:8080/"
    },
    "execution": {
     "iopub.execute_input": "2025-01-10T16:33:58.228192Z",
     "iopub.status.busy": "2025-01-10T16:33:58.226622Z",
     "iopub.status.idle": "2025-01-10T16:33:58.239260Z",
     "shell.execute_reply": "2025-01-10T16:33:58.237609Z",
     "shell.execute_reply.started": "2025-01-10T16:33:58.228068Z"
    },
    "id": "ralvQmJkeiDW",
    "outputId": "12d5d1ce-53d9-428e-a4a8-f43137a1be3b"
   },
   "outputs": [
    {
     "data": {
      "text/plain": [
       "1"
      ]
     },
     "execution_count": 4,
     "metadata": {},
     "output_type": "execute_result"
    }
   ],
   "source": [
    "scalar.item()"
   ]
  },
  {
   "cell_type": "code",
   "execution_count": 5,
   "metadata": {
    "colab": {
     "base_uri": "https://localhost:8080/"
    },
    "execution": {
     "iopub.execute_input": "2025-01-10T16:33:58.503520Z",
     "iopub.status.busy": "2025-01-10T16:33:58.501984Z",
     "iopub.status.idle": "2025-01-10T16:33:58.512193Z",
     "shell.execute_reply": "2025-01-10T16:33:58.510467Z",
     "shell.execute_reply.started": "2025-01-10T16:33:58.503465Z"
    },
    "id": "gOrUhJD_e4HM",
    "outputId": "d1da78d0-8a8a-4d89-aab4-95c591c1dc35"
   },
   "outputs": [
    {
     "data": {
      "text/plain": [
       "tensor([1, 1])"
      ]
     },
     "execution_count": 5,
     "metadata": {},
     "output_type": "execute_result"
    }
   ],
   "source": [
    "##vector\n",
    "vector = torch.tensor([1,1])\n",
    "vector"
   ]
  },
  {
   "cell_type": "code",
   "execution_count": 6,
   "metadata": {
    "colab": {
     "base_uri": "https://localhost:8080/"
    },
    "execution": {
     "iopub.execute_input": "2025-01-10T16:33:58.701769Z",
     "iopub.status.busy": "2025-01-10T16:33:58.701424Z",
     "iopub.status.idle": "2025-01-10T16:33:58.708033Z",
     "shell.execute_reply": "2025-01-10T16:33:58.707057Z",
     "shell.execute_reply.started": "2025-01-10T16:33:58.701747Z"
    },
    "id": "U7rlITv_ihET",
    "outputId": "02d64432-e9f1-485c-eea9-4700cb40d11c"
   },
   "outputs": [
    {
     "data": {
      "text/plain": [
       "1"
      ]
     },
     "execution_count": 6,
     "metadata": {},
     "output_type": "execute_result"
    }
   ],
   "source": [
    "vector.ndim"
   ]
  },
  {
   "cell_type": "code",
   "execution_count": 7,
   "metadata": {
    "colab": {
     "base_uri": "https://localhost:8080/"
    },
    "execution": {
     "iopub.execute_input": "2025-01-10T16:33:58.891539Z",
     "iopub.status.busy": "2025-01-10T16:33:58.891165Z",
     "iopub.status.idle": "2025-01-10T16:33:58.898235Z",
     "shell.execute_reply": "2025-01-10T16:33:58.897184Z",
     "shell.execute_reply.started": "2025-01-10T16:33:58.891505Z"
    },
    "id": "aKiNn5Q1iklO",
    "outputId": "410a08b9-a96e-4fc9-b772-e3ded79a0eb2"
   },
   "outputs": [
    {
     "data": {
      "text/plain": [
       "torch.Size([2])"
      ]
     },
     "execution_count": 7,
     "metadata": {},
     "output_type": "execute_result"
    }
   ],
   "source": [
    "vector.shape"
   ]
  },
  {
   "cell_type": "code",
   "execution_count": 8,
   "metadata": {
    "colab": {
     "base_uri": "https://localhost:8080/"
    },
    "execution": {
     "iopub.execute_input": "2025-01-10T16:33:59.082962Z",
     "iopub.status.busy": "2025-01-10T16:33:59.082472Z",
     "iopub.status.idle": "2025-01-10T16:33:59.288884Z",
     "shell.execute_reply": "2025-01-10T16:33:59.287349Z",
     "shell.execute_reply.started": "2025-01-10T16:33:59.082913Z"
    },
    "id": "ecZv-7r3ip5e",
    "outputId": "2cc7a4c5-6865-425b-ea01-0e9bf7067da2"
   },
   "outputs": [
    {
     "data": {
      "text/plain": [
       "tensor([[1, 2],\n",
       "        [4, 5]])"
      ]
     },
     "execution_count": 8,
     "metadata": {},
     "output_type": "execute_result"
    }
   ],
   "source": [
    "##Matrix\n",
    "matrix = torch.tensor([[1,2],[4,5]])\n",
    "matrix"
   ]
  },
  {
   "cell_type": "code",
   "execution_count": 9,
   "metadata": {
    "colab": {
     "base_uri": "https://localhost:8080/"
    },
    "execution": {
     "iopub.execute_input": "2025-01-10T16:33:59.296737Z",
     "iopub.status.busy": "2025-01-10T16:33:59.296280Z",
     "iopub.status.idle": "2025-01-10T16:33:59.303832Z",
     "shell.execute_reply": "2025-01-10T16:33:59.302939Z",
     "shell.execute_reply.started": "2025-01-10T16:33:59.296694Z"
    },
    "id": "_JIjAIpRkXic",
    "outputId": "f8331c84-7d36-487e-a7b5-48e71ccdbf57"
   },
   "outputs": [
    {
     "data": {
      "text/plain": [
       "tensor([[[1, 2, 3],\n",
       "         [4, 5, 6],\n",
       "         [7, 8, 9]]])"
      ]
     },
     "execution_count": 9,
     "metadata": {},
     "output_type": "execute_result"
    }
   ],
   "source": [
    "#Tensor\n",
    "tensor = torch.tensor([[\n",
    "    [1,2,3],\n",
    "    [4,5,6],\n",
    "    [7,8,9]\n",
    "]])\n",
    "tensor"
   ]
  },
  {
   "cell_type": "code",
   "execution_count": 10,
   "metadata": {
    "colab": {
     "base_uri": "https://localhost:8080/"
    },
    "execution": {
     "iopub.execute_input": "2025-01-10T16:33:59.500186Z",
     "iopub.status.busy": "2025-01-10T16:33:59.499920Z",
     "iopub.status.idle": "2025-01-10T16:33:59.505714Z",
     "shell.execute_reply": "2025-01-10T16:33:59.504584Z",
     "shell.execute_reply.started": "2025-01-10T16:33:59.500167Z"
    },
    "id": "6pb-KhshkbQM",
    "outputId": "2d2b8bc6-b9bf-4543-eaed-e91ab86eefd8"
   },
   "outputs": [
    {
     "data": {
      "text/plain": [
       "3"
      ]
     },
     "execution_count": 10,
     "metadata": {},
     "output_type": "execute_result"
    }
   ],
   "source": [
    "tensor.ndim"
   ]
  },
  {
   "cell_type": "code",
   "execution_count": 11,
   "metadata": {
    "colab": {
     "base_uri": "https://localhost:8080/"
    },
    "execution": {
     "iopub.execute_input": "2025-01-10T16:33:59.743544Z",
     "iopub.status.busy": "2025-01-10T16:33:59.743146Z",
     "iopub.status.idle": "2025-01-10T16:33:59.751134Z",
     "shell.execute_reply": "2025-01-10T16:33:59.749800Z",
     "shell.execute_reply.started": "2025-01-10T16:33:59.743515Z"
    },
    "id": "9StSQhN-k8of",
    "outputId": "56909b11-53cc-4b4f-aa48-565414a0b2d2"
   },
   "outputs": [
    {
     "data": {
      "text/plain": [
       "torch.Size([1, 3, 3])"
      ]
     },
     "execution_count": 11,
     "metadata": {},
     "output_type": "execute_result"
    }
   ],
   "source": [
    "tensor.shape"
   ]
  },
  {
   "cell_type": "code",
   "execution_count": 12,
   "metadata": {
    "colab": {
     "base_uri": "https://localhost:8080/"
    },
    "execution": {
     "iopub.execute_input": "2025-01-10T16:33:59.949849Z",
     "iopub.status.busy": "2025-01-10T16:33:59.949423Z",
     "iopub.status.idle": "2025-01-10T16:33:59.969491Z",
     "shell.execute_reply": "2025-01-10T16:33:59.968814Z",
     "shell.execute_reply.started": "2025-01-10T16:33:59.949820Z"
    },
    "id": "VlCdyfUwk-m_",
    "outputId": "06fe0a6e-1208-4d71-f69d-b0137c4aadd8"
   },
   "outputs": [
    {
     "data": {
      "text/plain": [
       "tensor([[0.1070, 0.8996, 0.9464, 0.9665],\n",
       "        [0.9458, 0.0712, 0.0267, 0.5666],\n",
       "        [0.1588, 0.3691, 0.2033, 0.7296]])"
      ]
     },
     "execution_count": 12,
     "metadata": {},
     "output_type": "execute_result"
    }
   ],
   "source": [
    "##Random Tensor\n",
    "Random_tensor = torch.rand(3,4)\n",
    "Random_tensor"
   ]
  },
  {
   "cell_type": "code",
   "execution_count": 13,
   "metadata": {
    "colab": {
     "base_uri": "https://localhost:8080/"
    },
    "execution": {
     "iopub.execute_input": "2025-01-10T16:34:00.146946Z",
     "iopub.status.busy": "2025-01-10T16:34:00.146562Z",
     "iopub.status.idle": "2025-01-10T16:34:00.152143Z",
     "shell.execute_reply": "2025-01-10T16:34:00.151202Z",
     "shell.execute_reply.started": "2025-01-10T16:34:00.146906Z"
    },
    "id": "PeCr8Z_iniqW",
    "outputId": "7c7f2975-4817-4340-ffd0-b06900318831"
   },
   "outputs": [
    {
     "data": {
      "text/plain": [
       "2"
      ]
     },
     "execution_count": 13,
     "metadata": {},
     "output_type": "execute_result"
    }
   ],
   "source": [
    " Random_tensor.ndim"
   ]
  },
  {
   "cell_type": "code",
   "execution_count": 14,
   "metadata": {
    "colab": {
     "base_uri": "https://localhost:8080/"
    },
    "execution": {
     "iopub.execute_input": "2025-01-10T16:34:00.356790Z",
     "iopub.status.busy": "2025-01-10T16:34:00.354483Z",
     "iopub.status.idle": "2025-01-10T16:34:00.368227Z",
     "shell.execute_reply": "2025-01-10T16:34:00.367069Z",
     "shell.execute_reply.started": "2025-01-10T16:34:00.356616Z"
    },
    "id": "aXhZ5HAOov16",
    "outputId": "38a7cf88-d61b-4ab6-b3a7-129fcfe1c42f"
   },
   "outputs": [
    {
     "data": {
      "text/plain": [
       "torch.Size([3, 4])"
      ]
     },
     "execution_count": 14,
     "metadata": {},
     "output_type": "execute_result"
    }
   ],
   "source": [
    "Random_tensor.shape"
   ]
  },
  {
   "cell_type": "code",
   "execution_count": 15,
   "metadata": {
    "colab": {
     "base_uri": "https://localhost:8080/"
    },
    "execution": {
     "iopub.execute_input": "2025-01-10T16:34:00.795503Z",
     "iopub.status.busy": "2025-01-10T16:34:00.794727Z",
     "iopub.status.idle": "2025-01-10T16:34:00.817107Z",
     "shell.execute_reply": "2025-01-10T16:34:00.814434Z",
     "shell.execute_reply.started": "2025-01-10T16:34:00.795438Z"
    },
    "id": "PxkFb_A0oyc-",
    "outputId": "9e49bd5a-d55a-4f81-ea10-a245ae72b726"
   },
   "outputs": [
    {
     "data": {
      "text/plain": [
       "tensor([[[0.6534, 0.5241, 0.5966,  ..., 0.5669, 0.9506, 0.1440],\n",
       "         [0.4414, 0.4199, 0.0083,  ..., 0.6780, 0.5571, 0.1435],\n",
       "         [0.5865, 0.9206, 0.2763,  ..., 0.7606, 0.7253, 0.5787],\n",
       "         ...,\n",
       "         [0.0982, 0.8173, 0.6897,  ..., 0.8265, 0.2907, 0.1422],\n",
       "         [0.8325, 0.4707, 0.2452,  ..., 0.5899, 0.8736, 0.1504],\n",
       "         [0.5582, 0.0057, 0.4629,  ..., 0.2262, 0.9120, 0.6049]],\n",
       "\n",
       "        [[0.4685, 0.8714, 0.0206,  ..., 0.5158, 0.6123, 0.2704],\n",
       "         [0.3021, 0.8403, 0.8338,  ..., 0.6700, 0.2635, 0.0745],\n",
       "         [0.9007, 0.3839, 0.3041,  ..., 0.0197, 0.7993, 0.4408],\n",
       "         ...,\n",
       "         [0.1385, 0.2946, 0.2635,  ..., 0.4782, 0.5158, 0.2905],\n",
       "         [0.4756, 0.7659, 0.5161,  ..., 0.6834, 0.8219, 0.0591],\n",
       "         [0.1707, 0.1637, 0.5385,  ..., 0.3131, 0.3723, 0.7833]],\n",
       "\n",
       "        [[0.5920, 0.8773, 0.6680,  ..., 0.7431, 0.3490, 0.0529],\n",
       "         [0.6119, 0.7129, 0.3074,  ..., 0.3899, 0.8753, 0.0803],\n",
       "         [0.3749, 0.9539, 0.8504,  ..., 0.3332, 0.6847, 0.2368],\n",
       "         ...,\n",
       "         [0.2881, 0.4343, 0.5411,  ..., 0.7012, 0.8188, 0.0298],\n",
       "         [0.8747, 0.0297, 0.5348,  ..., 0.4222, 0.3353, 0.0319],\n",
       "         [0.3664, 0.2259, 0.5619,  ..., 0.5701, 0.8479, 0.1506]]])"
      ]
     },
     "execution_count": 15,
     "metadata": {},
     "output_type": "execute_result"
    }
   ],
   "source": [
    "##Image tensor\n",
    "Image_Tensor = torch.rand(size=(3,244,244))\n",
    "Image_Tensor"
   ]
  },
  {
   "cell_type": "code",
   "execution_count": 16,
   "metadata": {
    "colab": {
     "base_uri": "https://localhost:8080/"
    },
    "execution": {
     "iopub.execute_input": "2025-01-10T16:34:01.021458Z",
     "iopub.status.busy": "2025-01-10T16:34:01.021111Z",
     "iopub.status.idle": "2025-01-10T16:34:01.028415Z",
     "shell.execute_reply": "2025-01-10T16:34:01.027631Z",
     "shell.execute_reply.started": "2025-01-10T16:34:01.021439Z"
    },
    "id": "AUZxn1tlqUvq",
    "outputId": "a4aa4659-b0a5-4831-d416-618c5b8ea694"
   },
   "outputs": [
    {
     "data": {
      "text/plain": [
       "tensor([[0., 0., 0., 0.],\n",
       "        [0., 0., 0., 0.],\n",
       "        [0., 0., 0., 0.]])"
      ]
     },
     "execution_count": 16,
     "metadata": {},
     "output_type": "execute_result"
    }
   ],
   "source": [
    "##Tensor of zeros\n",
    "zeros = torch.zeros(size=(3,4))\n",
    "zeros"
   ]
  },
  {
   "cell_type": "code",
   "execution_count": 17,
   "metadata": {
    "colab": {
     "base_uri": "https://localhost:8080/"
    },
    "execution": {
     "iopub.execute_input": "2025-01-10T16:34:01.747516Z",
     "iopub.status.busy": "2025-01-10T16:34:01.745727Z",
     "iopub.status.idle": "2025-01-10T16:34:01.773451Z",
     "shell.execute_reply": "2025-01-10T16:34:01.769921Z",
     "shell.execute_reply.started": "2025-01-10T16:34:01.747287Z"
    },
    "id": "-5sbz_BBTv0p",
    "outputId": "44e5d95f-20c1-400a-934a-7e43ecb95d25"
   },
   "outputs": [
    {
     "data": {
      "text/plain": [
       "tensor([[1., 1., 1., 1.],\n",
       "        [1., 1., 1., 1.],\n",
       "        [1., 1., 1., 1.]])"
      ]
     },
     "execution_count": 17,
     "metadata": {},
     "output_type": "execute_result"
    }
   ],
   "source": [
    "##Tensor of ones\n",
    "ones = torch.ones(size=(3,4))\n",
    "ones"
   ]
  },
  {
   "cell_type": "code",
   "execution_count": 18,
   "metadata": {
    "colab": {
     "base_uri": "https://localhost:8080/"
    },
    "execution": {
     "iopub.execute_input": "2025-01-10T16:34:01.950069Z",
     "iopub.status.busy": "2025-01-10T16:34:01.949798Z",
     "iopub.status.idle": "2025-01-10T16:34:01.955402Z",
     "shell.execute_reply": "2025-01-10T16:34:01.954189Z",
     "shell.execute_reply.started": "2025-01-10T16:34:01.950051Z"
    },
    "id": "VoxNL0u1UD92",
    "outputId": "4ee5754f-cd34-4623-d395-893833a16d28"
   },
   "outputs": [
    {
     "data": {
      "text/plain": [
       "torch.float32"
      ]
     },
     "execution_count": 18,
     "metadata": {},
     "output_type": "execute_result"
    }
   ],
   "source": [
    "ones.dtype"
   ]
  },
  {
   "cell_type": "code",
   "execution_count": 19,
   "metadata": {
    "colab": {
     "base_uri": "https://localhost:8080/"
    },
    "execution": {
     "iopub.execute_input": "2025-01-10T16:34:02.136558Z",
     "iopub.status.busy": "2025-01-10T16:34:02.136188Z",
     "iopub.status.idle": "2025-01-10T16:34:02.145292Z",
     "shell.execute_reply": "2025-01-10T16:34:02.144040Z",
     "shell.execute_reply.started": "2025-01-10T16:34:02.136530Z"
    },
    "id": "nodnNR0ZUIK0",
    "outputId": "9cca659f-4e53-4250-e52d-d257a6c1dca8"
   },
   "outputs": [
    {
     "data": {
      "text/plain": [
       "tensor([ 0,  2,  4,  6,  8, 10])"
      ]
     },
     "execution_count": 19,
     "metadata": {},
     "output_type": "execute_result"
    }
   ],
   "source": [
    "rang = torch.arange(0,11,2)\n",
    "rang"
   ]
  },
  {
   "cell_type": "code",
   "execution_count": 20,
   "metadata": {
    "colab": {
     "base_uri": "https://localhost:8080/"
    },
    "execution": {
     "iopub.execute_input": "2025-01-10T16:34:02.289415Z",
     "iopub.status.busy": "2025-01-10T16:34:02.288060Z",
     "iopub.status.idle": "2025-01-10T16:34:02.305012Z",
     "shell.execute_reply": "2025-01-10T16:34:02.303722Z",
     "shell.execute_reply.started": "2025-01-10T16:34:02.289293Z"
    },
    "id": "x4mia0LmUhbF",
    "outputId": "49579b86-0a1f-4206-f6e6-ab471999f117"
   },
   "outputs": [
    {
     "data": {
      "text/plain": [
       "tensor([[0., 0., 0., 0.],\n",
       "        [0., 0., 0., 0.],\n",
       "        [0., 0., 0., 0.]])"
      ]
     },
     "execution_count": 20,
     "metadata": {},
     "output_type": "execute_result"
    }
   ],
   "source": [
    "Random_tensor * zeros"
   ]
  },
  {
   "cell_type": "markdown",
   "metadata": {
    "id": "_5fv-tPOWE7W",
    "scrolled": true
   },
   "source": [
    "### Tensor datatypes\n"
   ]
  },
  {
   "cell_type": "markdown",
   "metadata": {},
   "source": [
    "There is three main datatypes float16 , float32 , float64\n",
    "\n",
    "**Note**:U can run into three big issues in Tensor\n",
    "\n",
    "1-not right datatype\n",
    "\n",
    "2-not right shape\n",
    "\n",
    "3-not right device"
   ]
  },
  {
   "cell_type": "code",
   "execution_count": 21,
   "metadata": {
    "execution": {
     "iopub.execute_input": "2025-01-10T16:34:02.799322Z",
     "iopub.status.busy": "2025-01-10T16:34:02.798629Z",
     "iopub.status.idle": "2025-01-10T16:34:02.805543Z",
     "shell.execute_reply": "2025-01-10T16:34:02.804648Z",
     "shell.execute_reply.started": "2025-01-10T16:34:02.799291Z"
    }
   },
   "outputs": [
    {
     "data": {
      "text/plain": [
       "tensor([3., 6., 9.])"
      ]
     },
     "execution_count": 21,
     "metadata": {},
     "output_type": "execute_result"
    }
   ],
   "source": [
    "float_32_tensor = torch.tensor([3.0,6.0,9.0] , dtype=None , device=None , requires_grad=False)\n",
    "float_32_tensor"
   ]
  },
  {
   "cell_type": "code",
   "execution_count": 22,
   "metadata": {
    "execution": {
     "iopub.execute_input": "2025-01-10T16:34:03.005395Z",
     "iopub.status.busy": "2025-01-10T16:34:03.004937Z",
     "iopub.status.idle": "2025-01-10T16:34:03.013945Z",
     "shell.execute_reply": "2025-01-10T16:34:03.010744Z",
     "shell.execute_reply.started": "2025-01-10T16:34:03.005362Z"
    }
   },
   "outputs": [
    {
     "data": {
      "text/plain": [
       "torch.float32"
      ]
     },
     "execution_count": 22,
     "metadata": {},
     "output_type": "execute_result"
    }
   ],
   "source": [
    "float_32_tensor.dtype"
   ]
  },
  {
   "cell_type": "code",
   "execution_count": 23,
   "metadata": {
    "execution": {
     "iopub.execute_input": "2025-01-10T16:34:03.168132Z",
     "iopub.status.busy": "2025-01-10T16:34:03.167510Z",
     "iopub.status.idle": "2025-01-10T16:34:03.179801Z",
     "shell.execute_reply": "2025-01-10T16:34:03.176649Z",
     "shell.execute_reply.started": "2025-01-10T16:34:03.168037Z"
    }
   },
   "outputs": [],
   "source": [
    "float_16_tensor = float_32_tensor.type(torch.half)"
   ]
  },
  {
   "cell_type": "code",
   "execution_count": 24,
   "metadata": {
    "execution": {
     "iopub.execute_input": "2025-01-10T16:34:03.348449Z",
     "iopub.status.busy": "2025-01-10T16:34:03.348139Z",
     "iopub.status.idle": "2025-01-10T16:34:03.353415Z",
     "shell.execute_reply": "2025-01-10T16:34:03.352579Z",
     "shell.execute_reply.started": "2025-01-10T16:34:03.348430Z"
    }
   },
   "outputs": [
    {
     "data": {
      "text/plain": [
       "torch.float16"
      ]
     },
     "execution_count": 24,
     "metadata": {},
     "output_type": "execute_result"
    }
   ],
   "source": [
    "float_16_tensor.dtype"
   ]
  },
  {
   "cell_type": "code",
   "execution_count": 25,
   "metadata": {
    "execution": {
     "iopub.execute_input": "2025-01-10T16:34:03.539563Z",
     "iopub.status.busy": "2025-01-10T16:34:03.539051Z",
     "iopub.status.idle": "2025-01-10T16:34:03.547731Z",
     "shell.execute_reply": "2025-01-10T16:34:03.546570Z",
     "shell.execute_reply.started": "2025-01-10T16:34:03.539514Z"
    }
   },
   "outputs": [
    {
     "data": {
      "text/plain": [
       "tensor([3., 6., 9.])"
      ]
     },
     "execution_count": 25,
     "metadata": {},
     "output_type": "execute_result"
    }
   ],
   "source": [
    "float_32_tensor"
   ]
  },
  {
   "cell_type": "code",
   "execution_count": 26,
   "metadata": {
    "execution": {
     "iopub.execute_input": "2025-01-10T16:34:03.745655Z",
     "iopub.status.busy": "2025-01-10T16:34:03.745340Z",
     "iopub.status.idle": "2025-01-10T16:34:03.752476Z",
     "shell.execute_reply": "2025-01-10T16:34:03.751790Z",
     "shell.execute_reply.started": "2025-01-10T16:34:03.745597Z"
    }
   },
   "outputs": [
    {
     "data": {
      "text/plain": [
       "tensor([ 9., 36., 81.])"
      ]
     },
     "execution_count": 26,
     "metadata": {},
     "output_type": "execute_result"
    }
   ],
   "source": [
    "float_16_tensor * float_32_tensor"
   ]
  },
  {
   "cell_type": "markdown",
   "metadata": {},
   "source": [
    "### Getting information from tensors \n",
    "\n",
    "**Note** :\n",
    "\n",
    "1- to get datatype `tensor.dtype`\n",
    "\n",
    "2- to get shape `tensor.shape`\n",
    "\n",
    "3- to get device `tensor.device`"
   ]
  },
  {
   "cell_type": "code",
   "execution_count": 27,
   "metadata": {
    "execution": {
     "iopub.execute_input": "2025-01-10T16:34:04.799155Z",
     "iopub.status.busy": "2025-01-10T16:34:04.798320Z",
     "iopub.status.idle": "2025-01-10T16:34:04.814065Z",
     "shell.execute_reply": "2025-01-10T16:34:04.811693Z",
     "shell.execute_reply.started": "2025-01-10T16:34:04.799079Z"
    }
   },
   "outputs": [
    {
     "data": {
      "text/plain": [
       "tensor([[0.8194, 0.3358, 0.8927, 0.2258],\n",
       "        [0.2658, 0.8188, 0.1268, 0.0287],\n",
       "        [0.2238, 0.1553, 0.0175, 0.9183]])"
      ]
     },
     "execution_count": 27,
     "metadata": {},
     "output_type": "execute_result"
    }
   ],
   "source": [
    " #Create Tensor\n",
    "some_tensor = torch.rand(3,4)\n",
    "some_tensor"
   ]
  },
  {
   "cell_type": "code",
   "execution_count": 28,
   "metadata": {
    "execution": {
     "iopub.execute_input": "2025-01-10T16:34:05.108657Z",
     "iopub.status.busy": "2025-01-10T16:34:05.107357Z",
     "iopub.status.idle": "2025-01-10T16:34:05.115583Z",
     "shell.execute_reply": "2025-01-10T16:34:05.114452Z",
     "shell.execute_reply.started": "2025-01-10T16:34:05.108528Z"
    }
   },
   "outputs": [
    {
     "name": "stdout",
     "output_type": "stream",
     "text": [
      "tensor([[0.8194, 0.3358, 0.8927, 0.2258],\n",
      "        [0.2658, 0.8188, 0.1268, 0.0287],\n",
      "        [0.2238, 0.1553, 0.0175, 0.9183]])\n",
      "Datatype of tensor:torch.float32 , shape of tensor:torch.Size([3, 4]), device of tensor:cpu\n"
     ]
    }
   ],
   "source": [
    "##find info\n",
    "print(some_tensor)\n",
    "print(f\"Datatype of tensor:{some_tensor.dtype} , shape of tensor:{some_tensor.shape}, device of tensor:{some_tensor.device}\")"
   ]
  },
  {
   "cell_type": "markdown",
   "metadata": {},
   "source": [
    "## Mainpulating tensors (operations in tensor)\n",
    "\n",
    "* Addition\n",
    "* abstraction\n",
    "* Divison\n",
    "* Multiplication\n",
    "* Matrix multiplication"
   ]
  },
  {
   "cell_type": "code",
   "execution_count": 29,
   "metadata": {
    "execution": {
     "iopub.execute_input": "2025-01-10T16:34:06.298908Z",
     "iopub.status.busy": "2025-01-10T16:34:06.296470Z",
     "iopub.status.idle": "2025-01-10T16:34:06.318352Z",
     "shell.execute_reply": "2025-01-10T16:34:06.316490Z",
     "shell.execute_reply.started": "2025-01-10T16:34:06.298712Z"
    }
   },
   "outputs": [
    {
     "data": {
      "text/plain": [
       "tensor([[[10.4702, 10.3341],\n",
       "         [10.7654, 10.8454]],\n",
       "\n",
       "        [[10.7288, 10.8598],\n",
       "         [10.3916, 10.4146]]])"
      ]
     },
     "execution_count": 29,
     "metadata": {},
     "output_type": "execute_result"
    }
   ],
   "source": [
    "tensor_operation = torch.rand(2,2,2)\n",
    "tensor_operation + 10"
   ]
  },
  {
   "cell_type": "code",
   "execution_count": 30,
   "metadata": {
    "execution": {
     "iopub.execute_input": "2025-01-10T16:34:06.542386Z",
     "iopub.status.busy": "2025-01-10T16:34:06.541977Z",
     "iopub.status.idle": "2025-01-10T16:34:06.553527Z",
     "shell.execute_reply": "2025-01-10T16:34:06.551136Z",
     "shell.execute_reply.started": "2025-01-10T16:34:06.542343Z"
    }
   },
   "outputs": [
    {
     "data": {
      "text/plain": [
       "tensor([[[4.7025, 3.3410],\n",
       "         [7.6541, 8.4544]],\n",
       "\n",
       "        [[7.2876, 8.5982],\n",
       "         [3.9159, 4.1456]]])"
      ]
     },
     "execution_count": 30,
     "metadata": {},
     "output_type": "execute_result"
    }
   ],
   "source": [
    "tensor_operation * 10"
   ]
  },
  {
   "cell_type": "code",
   "execution_count": 31,
   "metadata": {
    "execution": {
     "iopub.execute_input": "2025-01-10T16:34:06.656711Z",
     "iopub.status.busy": "2025-01-10T16:34:06.656047Z",
     "iopub.status.idle": "2025-01-10T16:34:06.667650Z",
     "shell.execute_reply": "2025-01-10T16:34:06.666050Z",
     "shell.execute_reply.started": "2025-01-10T16:34:06.656658Z"
    }
   },
   "outputs": [
    {
     "data": {
      "text/plain": [
       "tensor([[[0.2351, 0.1671],\n",
       "         [0.3827, 0.4227]],\n",
       "\n",
       "        [[0.3644, 0.4299],\n",
       "         [0.1958, 0.2073]]])"
      ]
     },
     "execution_count": 31,
     "metadata": {},
     "output_type": "execute_result"
    }
   ],
   "source": [
    "tensor_operation / 2  "
   ]
  },
  {
   "cell_type": "code",
   "execution_count": 34,
   "metadata": {
    "execution": {
     "iopub.execute_input": "2025-01-10T16:45:38.485611Z",
     "iopub.status.busy": "2025-01-10T16:45:38.485146Z",
     "iopub.status.idle": "2025-01-10T16:45:38.491766Z",
     "shell.execute_reply": "2025-01-10T16:45:38.491207Z",
     "shell.execute_reply.started": "2025-01-10T16:45:38.485566Z"
    }
   },
   "outputs": [
    {
     "data": {
      "text/plain": [
       "tensor([[[4.7025, 3.3410],\n",
       "         [7.6541, 8.4544]],\n",
       "\n",
       "        [[7.2876, 8.5982],\n",
       "         [3.9159, 4.1456]]])"
      ]
     },
     "execution_count": 34,
     "metadata": {},
     "output_type": "execute_result"
    }
   ],
   "source": [
    "#Try PyTorch build-in function prefer using pure python for easy opearation\n",
    "torch.mul(tensor_operation , 10)"
   ]
  },
  {
   "cell_type": "markdown",
   "metadata": {},
   "source": [
    "# Matrix Multiplication\n",
    "\n",
    "* Element * Matrix\n",
    "* Dot product = Matrix *  Matrix"
   ]
  },
  {
   "cell_type": "code",
   "execution_count": 41,
   "metadata": {
    "execution": {
     "iopub.execute_input": "2025-01-10T16:52:30.747825Z",
     "iopub.status.busy": "2025-01-10T16:52:30.747263Z",
     "iopub.status.idle": "2025-01-10T16:52:30.754883Z",
     "shell.execute_reply": "2025-01-10T16:52:30.753890Z",
     "shell.execute_reply.started": "2025-01-10T16:52:30.747754Z"
    }
   },
   "outputs": [
    {
     "name": "stdout",
     "output_type": "stream",
     "text": [
      "tensor([[[1, 2, 3],\n",
      "         [4, 5, 6],\n",
      "         [7, 8, 9]]]) * tensor([[[1, 2, 3],\n",
      "         [4, 5, 6],\n",
      "         [7, 8, 9]]])\n",
      "Equale: tensor([[[ 1,  4,  9],\n",
      "         [16, 25, 36],\n",
      "         [49, 64, 81]]])\n"
     ]
    }
   ],
   "source": [
    "# Element wise multiplication\n",
    "print(tensor , \"*\" , tensor)\n",
    "print(f\"Equale: {tensor * tensor}\")"
   ]
  },
  {
   "cell_type": "code",
   "execution_count": 70,
   "metadata": {
    "execution": {
     "iopub.execute_input": "2025-01-10T17:29:12.009374Z",
     "iopub.status.busy": "2025-01-10T17:29:12.008324Z",
     "iopub.status.idle": "2025-01-10T17:29:12.015100Z",
     "shell.execute_reply": "2025-01-10T17:29:12.013881Z",
     "shell.execute_reply.started": "2025-01-10T17:29:12.009333Z"
    }
   },
   "outputs": [
    {
     "name": "stderr",
     "output_type": "stream",
     "text": [
      "UsageError: Line magic function `%%time` not found.\n"
     ]
    }
   ],
   "source": [
    "# Matrix Multiplication\n",
    "%%time\n",
    "torch.matmul(tensor,tensor)"
   ]
  },
  {
   "cell_type": "code",
   "execution_count": 39,
   "metadata": {
    "execution": {
     "iopub.execute_input": "2025-01-10T16:50:57.529403Z",
     "iopub.status.busy": "2025-01-10T16:50:57.526950Z",
     "iopub.status.idle": "2025-01-10T16:50:57.547844Z",
     "shell.execute_reply": "2025-01-10T16:50:57.546495Z",
     "shell.execute_reply.started": "2025-01-10T16:50:57.529243Z"
    }
   },
   "outputs": [
    {
     "data": {
      "text/plain": [
       "tensor([[[1, 2, 3],\n",
       "         [4, 5, 6],\n",
       "         [7, 8, 9]]])"
      ]
     },
     "execution_count": 39,
     "metadata": {},
     "output_type": "execute_result"
    }
   ],
   "source": [
    "tensor"
   ]
  },
  {
   "cell_type": "code",
   "execution_count": 43,
   "metadata": {
    "execution": {
     "iopub.execute_input": "2025-01-10T16:54:31.835332Z",
     "iopub.status.busy": "2025-01-10T16:54:31.834439Z",
     "iopub.status.idle": "2025-01-10T16:54:31.842413Z",
     "shell.execute_reply": "2025-01-10T16:54:31.841051Z",
     "shell.execute_reply.started": "2025-01-10T16:54:31.835274Z"
    }
   },
   "outputs": [
    {
     "data": {
      "text/plain": [
       "30"
      ]
     },
     "execution_count": 43,
     "metadata": {},
     "output_type": "execute_result"
    }
   ],
   "source": [
    "# Matrix multiplication by hand\n",
    "1*1 + 2*4 + 3*7"
   ]
  },
  {
   "cell_type": "code",
   "execution_count": 74,
   "metadata": {
    "execution": {
     "iopub.execute_input": "2025-01-10T17:30:32.554464Z",
     "iopub.status.busy": "2025-01-10T17:30:32.553167Z",
     "iopub.status.idle": "2025-01-10T17:30:32.574746Z",
     "shell.execute_reply": "2025-01-10T17:30:32.572888Z",
     "shell.execute_reply.started": "2025-01-10T17:30:32.554333Z"
    }
   },
   "outputs": [
    {
     "name": "stdout",
     "output_type": "stream",
     "text": [
      "the Mult: 1\n",
      "the Mult: 4\n",
      "the Mult: 9\n",
      "the Mult: 16\n",
      "the Mult: 25\n",
      "the Mult: 36\n",
      "the Mult: 49\n",
      "the Mult: 64\n",
      "the Mult: 81\n",
      "CPU times: user 4.53 ms, sys: 4.04 ms, total: 8.57 ms\n",
      "Wall time: 5.45 ms\n"
     ]
    }
   ],
   "source": [
    "%%time\n",
    "value = 0 \n",
    "for i in range(len(tensor)):\n",
    "    for j in range(len(tensor[i])):\n",
    "        for z in range(len(tensor[i][j])):\n",
    "            value =  tensor[i][j][z] * tensor[i][j][z]\n",
    "            print(f\"the Mult: {value}\")"
   ]
  },
  {
   "cell_type": "code",
   "execution_count": null,
   "metadata": {},
   "outputs": [],
   "source": []
  }
 ],
 "metadata": {
  "accelerator": "GPU",
  "colab": {
   "gpuType": "T4",
   "provenance": []
  },
  "kernelspec": {
   "display_name": "Python 3 (ipykernel)",
   "language": "python",
   "name": "python3"
  },
  "language_info": {
   "codemirror_mode": {
    "name": "ipython",
    "version": 3
   },
   "file_extension": ".py",
   "mimetype": "text/x-python",
   "name": "python",
   "nbconvert_exporter": "python",
   "pygments_lexer": "ipython3",
   "version": "3.10.12"
  }
 },
 "nbformat": 4,
 "nbformat_minor": 4
}
