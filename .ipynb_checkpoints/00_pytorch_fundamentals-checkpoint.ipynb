{
  "nbformat": 4,
  "nbformat_minor": 0,
  "metadata": {
    "colab": {
      "provenance": [],
      "gpuType": "T4"
    },
    "kernelspec": {
      "name": "python3",
      "display_name": "Python 3"
    },
    "language_info": {
      "name": "python"
    },
    "accelerator": "GPU"
  },
  "cells": [
    {
      "cell_type": "code",
      "execution_count": null,
      "metadata": {
        "colab": {
          "base_uri": "https://localhost:8080/"
        },
        "id": "2pd3zJq8QL0W",
        "outputId": "388a4068-cef7-4bd8-b50a-d6868eac8806"
      },
      "outputs": [
        {
          "output_type": "stream",
          "name": "stdout",
          "text": [
            "Sat Jan  4 21:40:56 2025       \n",
            "+---------------------------------------------------------------------------------------+\n",
            "| NVIDIA-SMI 535.104.05             Driver Version: 535.104.05   CUDA Version: 12.2     |\n",
            "|-----------------------------------------+----------------------+----------------------+\n",
            "| GPU  Name                 Persistence-M | Bus-Id        Disp.A | Volatile Uncorr. ECC |\n",
            "| Fan  Temp   Perf          Pwr:Usage/Cap |         Memory-Usage | GPU-Util  Compute M. |\n",
            "|                                         |                      |               MIG M. |\n",
            "|=========================================+======================+======================|\n",
            "|   0  Tesla T4                       Off | 00000000:00:04.0 Off |                    0 |\n",
            "| N/A   48C    P8              11W /  70W |      0MiB / 15360MiB |      0%      Default |\n",
            "|                                         |                      |                  N/A |\n",
            "+-----------------------------------------+----------------------+----------------------+\n",
            "                                                                                         \n",
            "+---------------------------------------------------------------------------------------+\n",
            "| Processes:                                                                            |\n",
            "|  GPU   GI   CI        PID   Type   Process name                            GPU Memory |\n",
            "|        ID   ID                                                             Usage      |\n",
            "|=======================================================================================|\n",
            "|  No running processes found                                                           |\n",
            "+---------------------------------------------------------------------------------------+\n"
          ]
        }
      ],
      "source": [
        "!nvidia-smi"
      ]
    },
    {
      "cell_type": "code",
      "source": [
        "import torch\n",
        "import pandas as pd\n",
        "import numpy as np\n",
        "import matplotlib.pyplot as plt\n",
        "print(torch.__version__)"
      ],
      "metadata": {
        "colab": {
          "base_uri": "https://localhost:8080/"
        },
        "id": "kKT_MJDfQZWf",
        "outputId": "1f0cec6a-b5e5-4449-cc57-197b6be44e07"
      },
      "execution_count": null,
      "outputs": [
        {
          "output_type": "stream",
          "name": "stdout",
          "text": [
            "2.5.1+cu121\n"
          ]
        }
      ]
    },
    {
      "cell_type": "code",
      "source": [
        "## introduction to tensors\n",
        "\n",
        "###create tensors\n",
        "###scalar"
      ],
      "metadata": {
        "id": "eG8FgLwkSVMY"
      },
      "execution_count": null,
      "outputs": []
    },
    {
      "cell_type": "code",
      "source": [
        "scalar = torch.tensor(1)\n",
        "scalar"
      ],
      "metadata": {
        "colab": {
          "base_uri": "https://localhost:8080/"
        },
        "id": "JjzEuPlNdoQr",
        "outputId": "140a31f4-57da-4c12-df41-bef2834761dd"
      },
      "execution_count": null,
      "outputs": [
        {
          "output_type": "execute_result",
          "data": {
            "text/plain": [
              "tensor(1)"
            ]
          },
          "metadata": {},
          "execution_count": 4
        }
      ]
    },
    {
      "cell_type": "code",
      "source": [
        "scalar.ndim"
      ],
      "metadata": {
        "colab": {
          "base_uri": "https://localhost:8080/"
        },
        "id": "AKlS0ABMeHte",
        "outputId": "5243d85d-ff9a-40a7-f6cb-57fd2d0c1b3e"
      },
      "execution_count": null,
      "outputs": [
        {
          "output_type": "execute_result",
          "data": {
            "text/plain": [
              "0"
            ]
          },
          "metadata": {},
          "execution_count": 5
        }
      ]
    },
    {
      "cell_type": "code",
      "source": [
        "scalar.item()"
      ],
      "metadata": {
        "colab": {
          "base_uri": "https://localhost:8080/"
        },
        "id": "ralvQmJkeiDW",
        "outputId": "12d5d1ce-53d9-428e-a4a8-f43137a1be3b"
      },
      "execution_count": null,
      "outputs": [
        {
          "output_type": "execute_result",
          "data": {
            "text/plain": [
              "1"
            ]
          },
          "metadata": {},
          "execution_count": 6
        }
      ]
    },
    {
      "cell_type": "code",
      "source": [
        "##vector\n",
        "vector = torch.tensor([1,1])\n",
        "vector"
      ],
      "metadata": {
        "colab": {
          "base_uri": "https://localhost:8080/"
        },
        "id": "gOrUhJD_e4HM",
        "outputId": "d1da78d0-8a8a-4d89-aab4-95c591c1dc35"
      },
      "execution_count": null,
      "outputs": [
        {
          "output_type": "execute_result",
          "data": {
            "text/plain": [
              "tensor([1, 1])"
            ]
          },
          "metadata": {},
          "execution_count": 7
        }
      ]
    },
    {
      "cell_type": "code",
      "source": [
        "vector.ndim"
      ],
      "metadata": {
        "colab": {
          "base_uri": "https://localhost:8080/"
        },
        "id": "U7rlITv_ihET",
        "outputId": "02d64432-e9f1-485c-eea9-4700cb40d11c"
      },
      "execution_count": null,
      "outputs": [
        {
          "output_type": "execute_result",
          "data": {
            "text/plain": [
              "1"
            ]
          },
          "metadata": {},
          "execution_count": 8
        }
      ]
    },
    {
      "cell_type": "code",
      "source": [
        "vector.shape"
      ],
      "metadata": {
        "colab": {
          "base_uri": "https://localhost:8080/"
        },
        "id": "aKiNn5Q1iklO",
        "outputId": "410a08b9-a96e-4fc9-b772-e3ded79a0eb2"
      },
      "execution_count": null,
      "outputs": [
        {
          "output_type": "execute_result",
          "data": {
            "text/plain": [
              "torch.Size([2])"
            ]
          },
          "metadata": {},
          "execution_count": 9
        }
      ]
    },
    {
      "cell_type": "code",
      "source": [
        "##Matrix\n",
        "matrix = torch.tensor([[1,2],[4,5]])\n",
        "matrix"
      ],
      "metadata": {
        "colab": {
          "base_uri": "https://localhost:8080/"
        },
        "id": "ecZv-7r3ip5e",
        "outputId": "2cc7a4c5-6865-425b-ea01-0e9bf7067da2"
      },
      "execution_count": null,
      "outputs": [
        {
          "output_type": "execute_result",
          "data": {
            "text/plain": [
              "tensor([[1, 2],\n",
              "        [4, 5]])"
            ]
          },
          "metadata": {},
          "execution_count": 10
        }
      ]
    },
    {
      "cell_type": "code",
      "source": [
        "#Tensor\n",
        "tensor = torch.tensor([[\n",
        "    [1,2,3],\n",
        "    [4,5,6],\n",
        "    [7,8,9]\n",
        "]])\n",
        "tensor"
      ],
      "metadata": {
        "colab": {
          "base_uri": "https://localhost:8080/"
        },
        "id": "_JIjAIpRkXic",
        "outputId": "f8331c84-7d36-487e-a7b5-48e71ccdbf57"
      },
      "execution_count": null,
      "outputs": [
        {
          "output_type": "execute_result",
          "data": {
            "text/plain": [
              "tensor([[[1, 2, 3],\n",
              "         [4, 5, 6],\n",
              "         [7, 8, 9]]])"
            ]
          },
          "metadata": {},
          "execution_count": 11
        }
      ]
    },
    {
      "cell_type": "code",
      "source": [
        "tensor.ndim"
      ],
      "metadata": {
        "colab": {
          "base_uri": "https://localhost:8080/"
        },
        "id": "6pb-KhshkbQM",
        "outputId": "2d2b8bc6-b9bf-4543-eaed-e91ab86eefd8"
      },
      "execution_count": null,
      "outputs": [
        {
          "output_type": "execute_result",
          "data": {
            "text/plain": [
              "3"
            ]
          },
          "metadata": {},
          "execution_count": 12
        }
      ]
    },
    {
      "cell_type": "code",
      "source": [
        "tensor.shape"
      ],
      "metadata": {
        "colab": {
          "base_uri": "https://localhost:8080/"
        },
        "id": "9StSQhN-k8of",
        "outputId": "56909b11-53cc-4b4f-aa48-565414a0b2d2"
      },
      "execution_count": null,
      "outputs": [
        {
          "output_type": "execute_result",
          "data": {
            "text/plain": [
              "torch.Size([1, 3, 3])"
            ]
          },
          "metadata": {},
          "execution_count": 13
        }
      ]
    },
    {
      "cell_type": "code",
      "source": [
        "##Random Tensor\n",
        "Random_tensor = torch.rand(3,4)\n",
        "Random_tensor"
      ],
      "metadata": {
        "colab": {
          "base_uri": "https://localhost:8080/"
        },
        "id": "VlCdyfUwk-m_",
        "outputId": "06fe0a6e-1208-4d71-f69d-b0137c4aadd8"
      },
      "execution_count": null,
      "outputs": [
        {
          "output_type": "execute_result",
          "data": {
            "text/plain": [
              "tensor([[0.0361, 0.1790, 0.4544, 0.2335],\n",
              "        [0.0437, 0.6927, 0.4896, 0.5992],\n",
              "        [0.3469, 0.9794, 0.6763, 0.9168]])"
            ]
          },
          "metadata": {},
          "execution_count": 27
        }
      ]
    },
    {
      "cell_type": "code",
      "source": [
        " Random_tensor.ndim"
      ],
      "metadata": {
        "colab": {
          "base_uri": "https://localhost:8080/"
        },
        "id": "PeCr8Z_iniqW",
        "outputId": "7c7f2975-4817-4340-ffd0-b06900318831"
      },
      "execution_count": null,
      "outputs": [
        {
          "output_type": "execute_result",
          "data": {
            "text/plain": [
              "2"
            ]
          },
          "metadata": {},
          "execution_count": 28
        }
      ]
    },
    {
      "cell_type": "code",
      "source": [
        "Random_tensor.shape"
      ],
      "metadata": {
        "colab": {
          "base_uri": "https://localhost:8080/"
        },
        "id": "aXhZ5HAOov16",
        "outputId": "38a7cf88-d61b-4ab6-b3a7-129fcfe1c42f"
      },
      "execution_count": null,
      "outputs": [
        {
          "output_type": "execute_result",
          "data": {
            "text/plain": [
              "torch.Size([3, 4])"
            ]
          },
          "metadata": {},
          "execution_count": 29
        }
      ]
    },
    {
      "cell_type": "code",
      "source": [
        "##Image tensor\n",
        "Image_Tensor = torch.rand(size=(3,244,244))\n",
        "Image_Tensor"
      ],
      "metadata": {
        "colab": {
          "base_uri": "https://localhost:8080/"
        },
        "id": "PxkFb_A0oyc-",
        "outputId": "9e49bd5a-d55a-4f81-ea10-a245ae72b726"
      },
      "execution_count": null,
      "outputs": [
        {
          "output_type": "execute_result",
          "data": {
            "text/plain": [
              "tensor([[[0.9341, 0.2471, 0.9481,  ..., 0.3979, 0.4117, 0.1575],\n",
              "         [0.5767, 0.0056, 0.2000,  ..., 0.9935, 0.7407, 0.9644],\n",
              "         [0.5865, 0.5149, 0.1374,  ..., 0.5729, 0.6527, 0.6944],\n",
              "         ...,\n",
              "         [0.2235, 0.6584, 0.8545,  ..., 0.6525, 0.7206, 0.6825],\n",
              "         [0.8683, 0.0127, 0.8237,  ..., 0.4797, 0.1288, 0.2405],\n",
              "         [0.7380, 0.0538, 0.8490,  ..., 0.3288, 0.9681, 0.2257]],\n",
              "\n",
              "        [[0.9227, 0.4257, 0.0876,  ..., 0.9308, 0.9049, 0.9630],\n",
              "         [0.3486, 0.7789, 0.5257,  ..., 0.6572, 0.8635, 0.6009],\n",
              "         [0.6375, 0.8928, 0.0990,  ..., 0.0595, 0.7539, 0.7835],\n",
              "         ...,\n",
              "         [0.9440, 0.6869, 0.0755,  ..., 0.9504, 0.1538, 0.3217],\n",
              "         [0.7841, 0.2640, 0.6587,  ..., 0.9005, 0.1413, 0.2031],\n",
              "         [0.7552, 0.2912, 0.0916,  ..., 0.0752, 0.5097, 0.5717]],\n",
              "\n",
              "        [[0.5290, 0.3339, 0.5266,  ..., 0.1772, 0.0565, 0.7572],\n",
              "         [0.4431, 0.9212, 0.1168,  ..., 0.9588, 0.5616, 0.5024],\n",
              "         [0.9005, 0.0653, 0.4265,  ..., 0.4584, 0.7830, 0.2616],\n",
              "         ...,\n",
              "         [0.2818, 0.4401, 0.8130,  ..., 0.6569, 0.0311, 0.0336],\n",
              "         [0.2747, 0.0234, 0.0841,  ..., 0.2158, 0.6162, 0.6341],\n",
              "         [0.3699, 0.9195, 0.1854,  ..., 0.8080, 0.3772, 0.8701]]])"
            ]
          },
          "metadata": {},
          "execution_count": 30
        }
      ]
    },
    {
      "cell_type": "code",
      "source": [
        "##Tensor of zeros\n",
        "zeros = torch.zeros(size=(3,4))\n",
        "zeros"
      ],
      "metadata": {
        "colab": {
          "base_uri": "https://localhost:8080/"
        },
        "id": "AUZxn1tlqUvq",
        "outputId": "a4aa4659-b0a5-4831-d416-618c5b8ea694"
      },
      "execution_count": null,
      "outputs": [
        {
          "output_type": "execute_result",
          "data": {
            "text/plain": [
              "tensor([[0., 0., 0., 0.],\n",
              "        [0., 0., 0., 0.],\n",
              "        [0., 0., 0., 0.]])"
            ]
          },
          "metadata": {},
          "execution_count": 31
        }
      ]
    },
    {
      "cell_type": "code",
      "source": [
        "##Tensor of ones\n",
        "ones = torch.ones(size=(3,4))\n",
        "ones"
      ],
      "metadata": {
        "colab": {
          "base_uri": "https://localhost:8080/"
        },
        "id": "-5sbz_BBTv0p",
        "outputId": "44e5d95f-20c1-400a-934a-7e43ecb95d25"
      },
      "execution_count": null,
      "outputs": [
        {
          "output_type": "execute_result",
          "data": {
            "text/plain": [
              "tensor([[1., 1., 1., 1.],\n",
              "        [1., 1., 1., 1.],\n",
              "        [1., 1., 1., 1.]])"
            ]
          },
          "metadata": {},
          "execution_count": 32
        }
      ]
    },
    {
      "cell_type": "code",
      "source": [
        "ones.dtype"
      ],
      "metadata": {
        "colab": {
          "base_uri": "https://localhost:8080/"
        },
        "id": "VoxNL0u1UD92",
        "outputId": "4ee5754f-cd34-4623-d395-893833a16d28"
      },
      "execution_count": null,
      "outputs": [
        {
          "output_type": "execute_result",
          "data": {
            "text/plain": [
              "torch.float32"
            ]
          },
          "metadata": {},
          "execution_count": 33
        }
      ]
    },
    {
      "cell_type": "code",
      "source": [
        "rang = torch.arange(0,11,2)\n",
        "rang"
      ],
      "metadata": {
        "colab": {
          "base_uri": "https://localhost:8080/"
        },
        "id": "nodnNR0ZUIK0",
        "outputId": "9cca659f-4e53-4250-e52d-d257a6c1dca8"
      },
      "execution_count": null,
      "outputs": [
        {
          "output_type": "execute_result",
          "data": {
            "text/plain": [
              "tensor([ 0,  2,  4,  6,  8, 10])"
            ]
          },
          "metadata": {},
          "execution_count": 34
        }
      ]
    },
    {
      "cell_type": "code",
      "source": [
        "Random_tensor * zeros"
      ],
      "metadata": {
        "colab": {
          "base_uri": "https://localhost:8080/"
        },
        "id": "x4mia0LmUhbF",
        "outputId": "49579b86-0a1f-4206-f6e6-ab471999f117"
      },
      "execution_count": null,
      "outputs": [
        {
          "output_type": "execute_result",
          "data": {
            "text/plain": [
              "tensor([[0., 0., 0., 0.],\n",
              "        [0., 0., 0., 0.],\n",
              "        [0., 0., 0., 0.]])"
            ]
          },
          "metadata": {},
          "execution_count": 38
        }
      ]
    },
    {
      "cell_type": "code",
      "source": [],
      "metadata": {
        "id": "_5fv-tPOWE7W"
      },
      "execution_count": null,
      "outputs": []
    }
  ]
}